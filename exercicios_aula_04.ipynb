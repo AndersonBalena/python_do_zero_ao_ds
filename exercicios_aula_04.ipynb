{
 "cells": [
  {
   "cell_type": "code",
   "execution_count": 2,
   "id": "268a4de9",
   "metadata": {
    "ExecuteTime": {
     "end_time": "2021-07-09T00:39:11.618430Z",
     "start_time": "2021-07-09T00:39:09.275102Z"
    }
   },
   "outputs": [],
   "source": [
    "import pandas as pd"
   ]
  },
  {
   "cell_type": "code",
   "execution_count": 3,
   "id": "f4a07a83",
   "metadata": {
    "ExecuteTime": {
     "end_time": "2021-07-09T00:39:11.773983Z",
     "start_time": "2021-07-09T00:39:11.624326Z"
    }
   },
   "outputs": [],
   "source": [
    "data = pd.read_csv( './datasets/kc_house_data.csv' )"
   ]
  },
  {
   "cell_type": "code",
   "execution_count": 4,
   "id": "0e8a1eea",
   "metadata": {
    "ExecuteTime": {
     "end_time": "2021-07-09T00:39:13.385225Z",
     "start_time": "2021-07-09T00:39:13.263973Z"
    }
   },
   "outputs": [
    {
     "name": "stdout",
     "output_type": "stream",
     "text": [
      "Nível 0 - 251544.62150657043\n",
      "Nível 1 - 383596.8610060514\n",
      "Nível 2 - 538941.8367691154\n",
      "Nível 3 - 987540.2244556114\n"
     ]
    }
   ],
   "source": [
    "# 1 Qual a média do preço de compra dos imóveis por \"Nível\"?\n",
    "# # Nível 0 - Preço entre R$ 0  e R$ 321950\n",
    "# # Nível 1 - Preço entre R$ 321951  e R$ 450000\n",
    "# # Nível 2 - Preço entre R$ 450001  e R$ 645000\n",
    "# # Nível 3 - Preço maior ou igual a 645001\n",
    "\n",
    "print( 'Nível 0 - ' + str(data['price'][(data['price'] >= 0) & (data['price'] < 321950)].mean()) )\n",
    "print( 'Nível 1 - ' + str(data['price'][(data['price'] >= 321951) & (data['price'] < 450000)].mean()) )\n",
    "print( 'Nível 2 - ' + str(data['price'][(data['price'] >= 450001) & (data['price'] < 645000)].mean()) )\n",
    "print( 'Nível 3 - ' + str(data['price'][(data['price'] >= 645001)].mean()) )"
   ]
  },
  {
   "cell_type": "code",
   "execution_count": 5,
   "id": "1826a510",
   "metadata": {
    "ExecuteTime": {
     "end_time": "2021-07-09T00:39:15.392268Z",
     "start_time": "2021-07-09T00:39:15.360088Z"
    }
   },
   "outputs": [
    {
     "name": "stdout",
     "output_type": "stream",
     "text": [
      "Nível 0 - 1123.7764205071257\n",
      "Nível 1 - 1661.2419868791003\n",
      "Nível 2 - 2207.1235074626866\n",
      "Nível 3 - 3329.607016234372\n"
     ]
    }
   ],
   "source": [
    "# 2 Qual a média do tamanho da sala de estar dos imóveis por \"Size\"?\n",
    "# # Size 0 - Tamanho entre 0  e 1427 sqft\n",
    "# # Size 1 - Tamanho entre 1428  e 1910 sqft\n",
    "# # Size 2 - Tamanho entre 1911  e 2550 sqft\n",
    "# # Size 3 - Tamanho entre 2551\n",
    "\n",
    "print( 'Nível 0 - ' + str(data['sqft_living'][(data['sqft_living'] >= 0) & (data['sqft_living'] < 1427)].mean()) )\n",
    "print( 'Nível 1 - ' + str(data['sqft_living'][(data['sqft_living'] >= 1428) & (data['sqft_living'] < 1910)].mean()) )\n",
    "print( 'Nível 2 - ' + str(data['sqft_living'][(data['sqft_living'] >= 1911) & (data['sqft_living'] < 2550)].mean()) )\n",
    "print( 'Nível 3 - ' + str(data['sqft_living'][(data['sqft_living'] >= 2551)].mean()) )"
   ]
  },
  {
   "cell_type": "code",
   "execution_count": 7,
   "id": "eb464c27",
   "metadata": {
    "ExecuteTime": {
     "end_time": "2021-07-09T00:39:43.943225Z",
     "start_time": "2021-07-09T00:39:39.416084Z"
    }
   },
   "outputs": [
    {
     "data": {
      "text/html": [
       "<div>\n",
       "<style scoped>\n",
       "    .dataframe tbody tr th:only-of-type {\n",
       "        vertical-align: middle;\n",
       "    }\n",
       "\n",
       "    .dataframe tbody tr th {\n",
       "        vertical-align: top;\n",
       "    }\n",
       "\n",
       "    .dataframe thead th {\n",
       "        text-align: right;\n",
       "    }\n",
       "</style>\n",
       "<table border=\"1\" class=\"dataframe\">\n",
       "  <thead>\n",
       "    <tr style=\"text-align: right;\">\n",
       "      <th></th>\n",
       "      <th>id</th>\n",
       "      <th>date</th>\n",
       "      <th>price</th>\n",
       "      <th>bedrooms</th>\n",
       "      <th>bathrooms</th>\n",
       "      <th>sqft_living</th>\n",
       "      <th>sqft_lot</th>\n",
       "      <th>floors</th>\n",
       "      <th>waterfront</th>\n",
       "      <th>view</th>\n",
       "      <th>...</th>\n",
       "      <th>yr_renovated</th>\n",
       "      <th>zipcode</th>\n",
       "      <th>lat</th>\n",
       "      <th>long</th>\n",
       "      <th>sqft_living15</th>\n",
       "      <th>sqft_lot15</th>\n",
       "      <th>place_id</th>\n",
       "      <th>osm_type</th>\n",
       "      <th>country</th>\n",
       "      <th>country_code</th>\n",
       "    </tr>\n",
       "  </thead>\n",
       "  <tbody>\n",
       "    <tr>\n",
       "      <th>0</th>\n",
       "      <td>7129300520</td>\n",
       "      <td>20141013T000000</td>\n",
       "      <td>221900.0</td>\n",
       "      <td>3</td>\n",
       "      <td>1.00</td>\n",
       "      <td>1180</td>\n",
       "      <td>5650</td>\n",
       "      <td>1.0</td>\n",
       "      <td>0</td>\n",
       "      <td>0</td>\n",
       "      <td>...</td>\n",
       "      <td>0</td>\n",
       "      <td>98178</td>\n",
       "      <td>47.5112</td>\n",
       "      <td>-122.257</td>\n",
       "      <td>1340</td>\n",
       "      <td>5650</td>\n",
       "      <td>292831047</td>\n",
       "      <td>way</td>\n",
       "      <td>United States</td>\n",
       "      <td>us</td>\n",
       "    </tr>\n",
       "    <tr>\n",
       "      <th>1</th>\n",
       "      <td>6414100192</td>\n",
       "      <td>20141209T000000</td>\n",
       "      <td>538000.0</td>\n",
       "      <td>3</td>\n",
       "      <td>2.25</td>\n",
       "      <td>2570</td>\n",
       "      <td>7242</td>\n",
       "      <td>2.0</td>\n",
       "      <td>0</td>\n",
       "      <td>0</td>\n",
       "      <td>...</td>\n",
       "      <td>1991</td>\n",
       "      <td>98125</td>\n",
       "      <td>47.7210</td>\n",
       "      <td>-122.319</td>\n",
       "      <td>1690</td>\n",
       "      <td>7639</td>\n",
       "      <td>292831047</td>\n",
       "      <td>way</td>\n",
       "      <td>United States</td>\n",
       "      <td>us</td>\n",
       "    </tr>\n",
       "    <tr>\n",
       "      <th>2</th>\n",
       "      <td>5631500400</td>\n",
       "      <td>20150225T000000</td>\n",
       "      <td>180000.0</td>\n",
       "      <td>2</td>\n",
       "      <td>1.00</td>\n",
       "      <td>770</td>\n",
       "      <td>10000</td>\n",
       "      <td>1.0</td>\n",
       "      <td>0</td>\n",
       "      <td>0</td>\n",
       "      <td>...</td>\n",
       "      <td>0</td>\n",
       "      <td>98028</td>\n",
       "      <td>47.7379</td>\n",
       "      <td>-122.233</td>\n",
       "      <td>2720</td>\n",
       "      <td>8062</td>\n",
       "      <td>292831047</td>\n",
       "      <td>way</td>\n",
       "      <td>United States</td>\n",
       "      <td>us</td>\n",
       "    </tr>\n",
       "    <tr>\n",
       "      <th>3</th>\n",
       "      <td>2487200875</td>\n",
       "      <td>20141209T000000</td>\n",
       "      <td>604000.0</td>\n",
       "      <td>4</td>\n",
       "      <td>3.00</td>\n",
       "      <td>1960</td>\n",
       "      <td>5000</td>\n",
       "      <td>1.0</td>\n",
       "      <td>0</td>\n",
       "      <td>0</td>\n",
       "      <td>...</td>\n",
       "      <td>0</td>\n",
       "      <td>98136</td>\n",
       "      <td>47.5208</td>\n",
       "      <td>-122.393</td>\n",
       "      <td>1360</td>\n",
       "      <td>5000</td>\n",
       "      <td>292831047</td>\n",
       "      <td>way</td>\n",
       "      <td>United States</td>\n",
       "      <td>us</td>\n",
       "    </tr>\n",
       "    <tr>\n",
       "      <th>4</th>\n",
       "      <td>1954400510</td>\n",
       "      <td>20150218T000000</td>\n",
       "      <td>510000.0</td>\n",
       "      <td>3</td>\n",
       "      <td>2.00</td>\n",
       "      <td>1680</td>\n",
       "      <td>8080</td>\n",
       "      <td>1.0</td>\n",
       "      <td>0</td>\n",
       "      <td>0</td>\n",
       "      <td>...</td>\n",
       "      <td>0</td>\n",
       "      <td>98074</td>\n",
       "      <td>47.6168</td>\n",
       "      <td>-122.045</td>\n",
       "      <td>1800</td>\n",
       "      <td>7503</td>\n",
       "      <td>292831047</td>\n",
       "      <td>way</td>\n",
       "      <td>United States</td>\n",
       "      <td>us</td>\n",
       "    </tr>\n",
       "  </tbody>\n",
       "</table>\n",
       "<p>5 rows × 25 columns</p>\n",
       "</div>"
      ],
      "text/plain": [
       "           id             date     price  bedrooms  bathrooms  sqft_living  \\\n",
       "0  7129300520  20141013T000000  221900.0         3       1.00         1180   \n",
       "1  6414100192  20141209T000000  538000.0         3       2.25         2570   \n",
       "2  5631500400  20150225T000000  180000.0         2       1.00          770   \n",
       "3  2487200875  20141209T000000  604000.0         4       3.00         1960   \n",
       "4  1954400510  20150218T000000  510000.0         3       2.00         1680   \n",
       "\n",
       "   sqft_lot  floors  waterfront  view  ...  yr_renovated  zipcode      lat  \\\n",
       "0      5650     1.0           0     0  ...             0    98178  47.5112   \n",
       "1      7242     2.0           0     0  ...          1991    98125  47.7210   \n",
       "2     10000     1.0           0     0  ...             0    98028  47.7379   \n",
       "3      5000     1.0           0     0  ...             0    98136  47.5208   \n",
       "4      8080     1.0           0     0  ...             0    98074  47.6168   \n",
       "\n",
       "      long  sqft_living15  sqft_lot15   place_id  osm_type        country  \\\n",
       "0 -122.257           1340        5650  292831047       way  United States   \n",
       "1 -122.319           1690        7639  292831047       way  United States   \n",
       "2 -122.233           2720        8062  292831047       way  United States   \n",
       "3 -122.393           1360        5000  292831047       way  United States   \n",
       "4 -122.045           1800        7503  292831047       way  United States   \n",
       "\n",
       "   country_code  \n",
       "0            us  \n",
       "1            us  \n",
       "2            us  \n",
       "3            us  \n",
       "4            us  \n",
       "\n",
       "[5 rows x 25 columns]"
      ]
     },
     "execution_count": 7,
     "metadata": {},
     "output_type": "execute_result"
    }
   ],
   "source": [
    "# 3 Adicione as seguintes informações ao conjunto de dados original \n",
    "# # Place ID: Identificação da localização\n",
    "# # OSM Type: Open Street Map type\n",
    "# # Country: Nome do País\n",
    "# # Country code: Código do País\n",
    "\n",
    "from geopy.geocoders import Nominatim \n",
    "\n",
    "# Initializing Nominatim API\n",
    "geolocator = Nominatim( user_agent='geoapiExercises' )\n",
    "\n",
    "for i in range ( 5 ):\n",
    "\n",
    "    response = geolocator.reverse( str(data['lat'][i]) + ',' + str(data['long'][i]) )\n",
    "    \n",
    "    data['place_id'] = response.raw['place_id']\n",
    "    data['osm_type'] = response.raw['osm_type']\n",
    "    data['country'] = response.raw['address']['country']\n",
    "    data['country_code'] = response.raw['address']['country_code']\n",
    "    \n",
    "data.head()"
   ]
  },
  {
   "cell_type": "code",
   "execution_count": null,
   "id": "a8e0d393",
   "metadata": {},
   "outputs": [],
   "source": []
  }
 ],
 "metadata": {
  "kernelspec": {
   "display_name": "Python 3",
   "language": "python",
   "name": "python3"
  },
  "language_info": {
   "codemirror_mode": {
    "name": "ipython",
    "version": 3
   },
   "file_extension": ".py",
   "mimetype": "text/x-python",
   "name": "python",
   "nbconvert_exporter": "python",
   "pygments_lexer": "ipython3",
   "version": "3.8.8"
  }
 },
 "nbformat": 4,
 "nbformat_minor": 5
}
